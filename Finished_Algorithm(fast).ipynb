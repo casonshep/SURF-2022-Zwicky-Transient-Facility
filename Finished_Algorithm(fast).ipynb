{
  "cells": [
    {
      "cell_type": "markdown",
      "metadata": {
        "id": "view-in-github",
        "colab_type": "text"
      },
      "source": [
        "<a href=\"https://colab.research.google.com/github/casonshep/ztfquery-algorithm-shepard/blob/main/Finished_Algorithm(fast).ipynb\" target=\"_parent\"><img src=\"https://colab.research.google.com/assets/colab-badge.svg\" alt=\"Open In Colab\"/></a>"
      ]
    },
    {
      "cell_type": "code",
      "source": [
        "!sudo apt-get update -y\n",
        "!sudo apt-get install python3.8\n",
        "from IPython.display import clear_output \n",
        "clear_output()\n",
        "!sudo update-alternatives --install /usr/bin/python3 python3 /usr/bin/python3.8 1\n",
        "\n",
        "# Choose one of the given alternatives:\n",
        "!sudo update-alternatives --config python3\n",
        "\n",
        "# This one used to work but now NOT(for me)!\n",
        "# !sudo update-alternatives --config python\n",
        "\n",
        "# Check the result\n",
        "!python3 --version\n",
        "\n"
      ],
      "metadata": {
        "id": "7yVWwvGXXe_r"
      },
      "execution_count": null,
      "outputs": []
    },
    {
      "cell_type": "code",
      "execution_count": null,
      "metadata": {
        "id": "qrtW2DzruRZU"
      },
      "outputs": [],
      "source": [
        "# setup, run on startup/reconnect\n",
        "!python -m pip install ztfquery\n",
        "!python -m pip install astrobject\n",
        "\n",
        "\n",
        "%matplotlib notebook"
      ]
    },
    {
      "cell_type": "code",
      "execution_count": null,
      "metadata": {
        "id": "3wOEQC0fPCHr"
      },
      "outputs": [],
      "source": [
        "from ztfquery import query, buildurl, io\n",
        "from astropy import time, units as u\n",
        "from numpy import random, average\n",
        "from astropy.io import fits\n",
        "from astropy.table import Table\n",
        "from astropy.coordinates import SkyCoord, match_coordinates_sky\n",
        "import csv, time as time2\n",
        "import pandas as sorting\n",
        "\n",
        "from google.colab import output\n",
        "\n",
        "# to get the last nights date\n",
        "from datetime import date, timedelta"
      ]
    },
    {
      "cell_type": "code",
      "execution_count": null,
      "metadata": {
        "id": "t7KbCHccfPgU"
      },
      "outputs": [],
      "source": [
        "header= [\"grid\", \"objid\", \"ra\", \"dec\"]\n",
        "\n",
        "# turns csv to array of lists called data_2d\n",
        "with open('/content/data/data_sort') as file:\n",
        "  data_2d = []\n",
        "  reader = csv.reader(file, delimiter=',')\n",
        "  next(reader) # this will skip the header\n",
        "  for row in reader:\n",
        "    data_2d.append(row) \n",
        "data_2d = data_2d[0:len(data_2d)-1]\n",
        "\n",
        "# generates csv file for each gridid in the data file\n",
        "# also creates a list of fields for use with ztf query later\n",
        "field_list = []\n",
        "for x in data_2d:\n",
        "  field_list.append(int(float(x[0])))\n",
        "  temp = data_2d[data_2d.index(x)-1];\n",
        "  with open('/content/data/grid_'+str(int(float(x[0]))), 'a') as grid_file:\n",
        "    writer = csv.writer(grid_file)\n",
        "    if int(float(temp[0])) != int(float(x[0])):\n",
        "      writer.writerow(header)\n",
        "    writer.writerow(x)\n",
        "field_list = [*set(field_list)]\n",
        "field_list.sort\n",
        "output.clear()"
      ]
    },
    {
      "cell_type": "code",
      "execution_count": null,
      "metadata": {
        "id": "w-9jWRlVJjXi"
      },
      "outputs": [],
      "source": [
        "day = date.today() - timedelta(days=1)\n",
        "day_str = day.strftime(\"%Y-%m-%d\")\n",
        "\n",
        "zquery = query.ZTFQuery()\n",
        "\n",
        "jdate = time.Time(day_str).jd\n",
        "\n",
        "start = time2.time()\n",
        "\n",
        "field_update_count = 0\n",
        "object_update_count = 0\n",
        "\n",
        "for x in field_list:\n",
        "\n",
        "  if field_list.index(x) != 0:\n",
        "    print(f'Completed query of grid {field_list[field_list.index(x)-1]}, this is field {field_list.index(x)}/{len(field_list)}')\n",
        "  \n",
        "  zquery.load_metadata(kind=\"sci\", sql_query=f'obsjd >= {jdate} and field = {x}')\n",
        "  \n",
        "  if len(zquery.metatable['ra']) != 0:\n",
        "    #only updates the update count if the metadata query is nonempty\n",
        "    field_update_count = field_update_count + 1\n",
        "\n",
        "    float_ra = [float(i) for i in list(zquery.metatable['ra'])]\n",
        "    float_dec = [float(f) for f in list(zquery.metatable['dec'])]\n",
        "    metadata_catalog = SkyCoord(float_ra*u.degree, float_dec*u.degree)\n",
        "\n",
        "    zquery.get_data_path(suffix=\"psfcat.fits\")\n",
        "    urls, locations = zquery.download_data(suffix=\"psfcat.fits\", source=\"local\", nprocess=8,\n",
        "                                      download_dir='/content/ztf_out/', show_progress=True, nodl=True,)\n",
        "  \n",
        "    #creates field_data list which can be used as original skycoord to find measurement match\n",
        "    with open('/content/data/grid_'+str(x)) as file:\n",
        "      field_data = []\n",
        "      reader = csv.reader(file, delimiter=',')\n",
        "      next(reader) # this will skip the header\n",
        "      for row in reader:\n",
        "        field_data.append(row)\n",
        "      \n",
        "      object_update_count = object_update_count + len(field_data)\n",
        "\n",
        "      #create csv to store data\n",
        "      with open('/content/data_out/csv_'+str(x), 'w') as file:\n",
        "        writer = csv.writer(file)\n",
        "\n",
        "        header = ['objid', 'ra', 'dec', 'flux', 'sigflux', 'mag', 'sigmag']\n",
        "        writer.writerow(header)     \n",
        "        for obj in field_data:\n",
        "\n",
        "          #creates reference SkyCoord object\n",
        "          original = SkyCoord(ra=float(obj[2])*u.degree, dec=float(obj[3])*u.degree)\n",
        "          index_meta_match, angle, quant = match_coordinates_sky(original, metadata_catalog, nthneighbor=1)\n",
        "\n",
        "          #load metadata and download for given cooridnate query\n",
        "          temp_url = buildurl.filename_to_scienceurl(locations[index_meta_match])\n",
        "          io.download_single_url(temp_url,locations[index_meta_match])\n",
        "          with fits.open(locations[index_meta_match]) as hdu:\n",
        "            data = hdu[1].data\n",
        "          \n",
        "            # creates catalog of coordinate pairs\n",
        "            float_ra = [float(i) for i in data['ra']]\n",
        "            float_dec = [float(f) for f in data['dec']]\n",
        "            catalog = SkyCoord(float_ra*u.degree, float_dec*u.degree)\n",
        "\n",
        "            # calculates the closest pair and stores coordinate in data_match\n",
        "            index_match, angle, quant = match_coordinates_sky(original, catalog, nthneighbor=1)\n",
        "            data_match = data[index_match]\n",
        "            # writes coordinate matched data to csv file\n",
        "            newline = [obj[1], data_match['ra'], data_match['dec'], data_match['flux'],\n",
        "                     data_match['sigflux'], data_match['mag'], data_match['sigmag']]\n",
        "            writer.writerow(newline)\n",
        "\n",
        "end = time2.time()\n",
        "print(f'{len(field_list)} queries completed in {end-start}.') \n",
        "print(f'Transients from {field_update_count} sky grids were updated in the past 24 hours.')  \n",
        "print(f'Data from a total of {object_update_count} transient objects was updated.')       "
      ]
    }
  ],
  "metadata": {
    "colab": {
      "collapsed_sections": [],
      "provenance": [],
      "authorship_tag": "ABX9TyNf9YoSTshVucLsJZkYKgj3",
      "include_colab_link": true
    },
    "kernelspec": {
      "display_name": "Python 3",
      "name": "python3"
    },
    "language_info": {
      "name": "python"
    }
  },
  "nbformat": 4,
  "nbformat_minor": 0
}